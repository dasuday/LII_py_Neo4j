{
 "cells": [
  {
   "cell_type": "markdown",
   "id": "02f14f05",
   "metadata": {},
   "source": [
    "Import statements"
   ]
  },
  {
   "cell_type": "code",
   "execution_count": 4,
   "id": "bc3fb5fb",
   "metadata": {},
   "outputs": [],
   "source": [
    "from graphdatascience import GraphDataScience"
   ]
  },
  {
   "cell_type": "markdown",
   "id": "03dbb18e",
   "metadata": {},
   "source": [
    "Database Connection"
   ]
  },
  {
   "cell_type": "code",
   "execution_count": 5,
   "id": "0f1c5d0f",
   "metadata": {},
   "outputs": [],
   "source": [
    "# ----------------------------------------------------------------------\n",
    "# Database parameters\n",
    "# ----------------------------------------------------------------------\n",
    "NEO4J_URI = \"bolt://localhost:7687\"  \n",
    "NEO4J_USER = \"neo4j\"\n",
    "NEO4J_PASSWORD = \"liicornell.org\"\n",
    "DATABASE = \"liilinks\"    \n",
    "# ----------------------------------------------------------------------"
   ]
  },
  {
   "cell_type": "markdown",
   "id": "720136c1",
   "metadata": {},
   "source": [
    "Create GDS client for the database\n"
   ]
  },
  {
   "cell_type": "code",
   "execution_count": 6,
   "id": "31b3ca9f",
   "metadata": {},
   "outputs": [],
   "source": [
    "gds = GraphDataScience(NEO4J_URI, auth=(NEO4J_USER, NEO4J_PASSWORD), database=DATABASE)"
   ]
  },
  {
   "cell_type": "markdown",
   "id": "95e55f2e",
   "metadata": {},
   "source": [
    "Code to create a new graph projection"
   ]
  },
  {
   "cell_type": "code",
   "execution_count": null,
   "id": "41c253c2",
   "metadata": {},
   "outputs": [],
   "source": [
    "G, result = gds.graph.project(\n",
    "    \"lii_graph\",\n",
    "    \"doc\",\n",
    "    \"linksto\"\n",
    ")\n",
    "print(result) "
   ]
  },
  {
   "cell_type": "markdown",
   "id": "7d375df4",
   "metadata": {},
   "source": [
    "List all graphs"
   ]
  },
  {
   "cell_type": "code",
   "execution_count": 7,
   "id": "44ce0562",
   "metadata": {},
   "outputs": [
    {
     "name": "stdout",
     "output_type": "stream",
     "text": [
      "0       liigraph\n",
      "1    liigraph_BC\n",
      "2      lii_graph\n",
      "Name: graphName, dtype: object\n"
     ]
    }
   ],
   "source": [
    "print(gds.graph.list()[\"graphName\"])"
   ]
  },
  {
   "cell_type": "markdown",
   "id": "bf251c0a",
   "metadata": {},
   "source": [
    "HITS algorithm"
   ]
  },
  {
   "cell_type": "code",
   "execution_count": 14,
   "id": "c9daa4ba",
   "metadata": {},
   "outputs": [],
   "source": [
    "# Running HITS algorithm\n",
    "G = gds.graph.get(\"lii_graph\")\n",
    "hits_df = gds.hits.stream(G)"
   ]
  },
  {
   "cell_type": "code",
   "execution_count": 15,
   "id": "9025565a",
   "metadata": {},
   "outputs": [
    {
     "name": "stdout",
     "output_type": "stream",
     "text": [
      "        nodeId                                        values\n",
      "0        86400  {'hub': 0.0, 'auth': 1.3467206092753552e-06}\n",
      "1        86401   {'hub': 0.0, 'auth': 1.304182106622387e-06}\n",
      "2        86402  {'hub': 0.0, 'auth': 1.0043314648271095e-06}\n",
      "3        86403   {'hub': 0.0, 'auth': 9.095735803071727e-07}\n",
      "4        86404   {'hub': 0.0, 'auth': 5.524462003176176e-07}\n",
      "...        ...                                           ...\n",
      "174827   86395  {'hub': 0.0, 'auth': 1.0982263059658206e-06}\n",
      "174828   86396    {'hub': 0.0, 'auth': 8.92814929477037e-06}\n",
      "174829   86397   {'hub': 0.0, 'auth': 9.949272999503269e-06}\n",
      "174830   86398   {'hub': 0.0, 'auth': 2.569369900806986e-06}\n",
      "174831   86399   {'hub': 0.0, 'auth': 2.569369900806986e-06}\n",
      "\n",
      "[174832 rows x 2 columns]\n"
     ]
    }
   ],
   "source": [
    "print(hits_df)"
   ]
  },
  {
   "cell_type": "markdown",
   "id": "286fe23d",
   "metadata": {},
   "source": [
    "Extract auth and hub scores into separate columns\n",
    "\n",
    "Top 10 auth scores"
   ]
  },
  {
   "cell_type": "code",
   "execution_count": 26,
   "id": "7dcf217f",
   "metadata": {},
   "outputs": [
    {
     "name": "stdout",
     "output_type": "stream",
     "text": [
      "       nodeId                                              hlink      auth  \\\n",
      "85398  171798  https://www.law.cornell.edu/wex/category/wex-d...  0.599941   \n",
      "85420  171820  https://www.law.cornell.edu/wex/category/legal...  0.299581   \n",
      "85400  171800  https://www.law.cornell.edu/wex/category/commerce  0.241910   \n",
      "85421  171821  https://www.law.cornell.edu/wex/category/legal...  0.233361   \n",
      "85442  171842    https://www.law.cornell.edu/wex/category/courts  0.173609   \n",
      "85429  171829  https://www.law.cornell.edu/wex/category/court...  0.168824   \n",
      "85404  171804  https://www.law.cornell.edu/wex/category/comme...  0.165701   \n",
      "85402  171802    https://www.law.cornell.edu/wex/category/civics  0.160874   \n",
      "85411  171811  https://www.law.cornell.edu/wex/category/life-...  0.153672   \n",
      "85399  171799  https://www.law.cornell.edu/wex/category/busin...  0.144010   \n",
      "\n",
      "       hub  \n",
      "85398  0.0  \n",
      "85420  0.0  \n",
      "85400  0.0  \n",
      "85421  0.0  \n",
      "85442  0.0  \n",
      "85429  0.0  \n",
      "85404  0.0  \n",
      "85402  0.0  \n",
      "85411  0.0  \n",
      "85399  0.0  \n"
     ]
    }
   ],
   "source": [
    "# Extract 'auth' and 'hub' into separate columns\n",
    "hits_df['auth'] = hits_df['values'].apply(lambda x: x['auth'])\n",
    "hits_df['hub'] = hits_df['values'].apply(lambda x: x['hub'])\n",
    "\n",
    "'''# Extract 'hlink': too slow\n",
    "hits_df['hlink'] = hits_df['nodeId'].apply(\n",
    "    lambda node_id: gds.util.asNode(node_id).get('hlink', None)\n",
    ")'''\n",
    "\n",
    "# Sort by 'auth' and get the top 10\n",
    "top10auth = hits_df.sort_values('auth', ascending=False).head(10)\n",
    "\n",
    "# Extract 'hlink\n",
    "top10auth['hlink'] = top10auth['nodeId'].apply(\n",
    "    lambda node_id: gds.util.asNode(node_id).get('hlink', None)\n",
    ")\n",
    "\n",
    "# Print the result\n",
    "print(top10auth[['nodeId', 'hlink', 'auth', 'hub']])\n"
   ]
  },
  {
   "cell_type": "markdown",
   "id": "cdcd0e21",
   "metadata": {},
   "source": [
    "Top 10 hub scores"
   ]
  },
  {
   "cell_type": "code",
   "execution_count": null,
   "id": "5a7715df",
   "metadata": {},
   "outputs": [
    {
     "name": "stdout",
     "output_type": "stream",
     "text": [
      "        nodeId                                           hlink      auth  \\\n",
      "131778   43346    https://www.law.cornell.edu/wex/interference  0.000602   \n",
      "131641   43209    https://www.law.cornell.edu/wex/incompetency  0.000010   \n",
      "129670   41238      https://www.law.cornell.edu/wex/civil_case  0.008008   \n",
      "129911   41479     https://www.law.cornell.edu/wex/conservatee  0.000217   \n",
      "131471   43039         https://www.law.cornell.edu/wex/impound  0.000179   \n",
      "128901   40469      https://www.law.cornell.edu/wex/act_of_god  0.000971   \n",
      "129082   40650           https://www.law.cornell.edu/wex/amend  0.002054   \n",
      "129451   41019          https://www.law.cornell.edu/wex/burden  0.001423   \n",
      "129821   41389       https://www.law.cornell.edu/wex/competent  0.001615   \n",
      "129906   41474  https://www.law.cornell.edu/wex/consent_decree  0.000662   \n",
      "\n",
      "             hub  \n",
      "131778  0.038391  \n",
      "131641  0.035436  \n",
      "129670  0.032768  \n",
      "129911  0.031272  \n",
      "131471  0.031159  \n",
      "128901  0.031080  \n",
      "129082  0.031015  \n",
      "129451  0.030786  \n",
      "129821  0.030716  \n",
      "129906  0.030703  \n"
     ]
    }
   ],
   "source": [
    "# Sort by 'hub' and get the top 10\n",
    "top10hub = hits_df.sort_values('hub', ascending=False).head(10)\n",
    "\n",
    "# Extract 'hlink\n",
    "top10hub['hlink'] = top10hub['nodeId'].apply(\n",
    "    lambda node_id: gds.util.asNode(node_id).get('hlink', None)\n",
    ")\n",
    "\n",
    "# Print the result\n",
    "print(top10hub[['nodeId', 'hlink', 'auth', 'hub']])"
   ]
  },
  {
   "cell_type": "code",
   "execution_count": 18,
   "id": "a1cf67a0",
   "metadata": {},
   "outputs": [
    {
     "name": "stdout",
     "output_type": "stream",
     "text": [
      "        nodeId                                        values          auth  \\\n",
      "0        86400  {'hub': 0.0, 'auth': 1.3467206092753552e-06}  1.346721e-06   \n",
      "1        86401   {'hub': 0.0, 'auth': 1.304182106622387e-06}  1.304182e-06   \n",
      "2        86402  {'hub': 0.0, 'auth': 1.0043314648271095e-06}  1.004331e-06   \n",
      "3        86403   {'hub': 0.0, 'auth': 9.095735803071727e-07}  9.095736e-07   \n",
      "4        86404   {'hub': 0.0, 'auth': 5.524462003176176e-07}  5.524462e-07   \n",
      "...        ...                                           ...           ...   \n",
      "174827   86395  {'hub': 0.0, 'auth': 1.0982263059658206e-06}  1.098226e-06   \n",
      "174828   86396    {'hub': 0.0, 'auth': 8.92814929477037e-06}  8.928149e-06   \n",
      "174829   86397   {'hub': 0.0, 'auth': 9.949272999503269e-06}  9.949273e-06   \n",
      "174830   86398   {'hub': 0.0, 'auth': 2.569369900806986e-06}  2.569370e-06   \n",
      "174831   86399   {'hub': 0.0, 'auth': 2.569369900806986e-06}  2.569370e-06   \n",
      "\n",
      "        hub  \n",
      "0       0.0  \n",
      "1       0.0  \n",
      "2       0.0  \n",
      "3       0.0  \n",
      "4       0.0  \n",
      "...     ...  \n",
      "174827  0.0  \n",
      "174828  0.0  \n",
      "174829  0.0  \n",
      "174830  0.0  \n",
      "174831  0.0  \n",
      "\n",
      "[174832 rows x 4 columns]\n"
     ]
    }
   ],
   "source": [
    "print(hits_df)"
   ]
  },
  {
   "cell_type": "markdown",
   "id": "70631848",
   "metadata": {},
   "source": [
    "Betweenness Centrality"
   ]
  },
  {
   "cell_type": "code",
   "execution_count": null,
   "id": "b12480ad",
   "metadata": {},
   "outputs": [],
   "source": [
    "bc_df = gds.betweenness.stream(G)"
   ]
  },
  {
   "cell_type": "code",
   "execution_count": 28,
   "id": "44c9b6b8",
   "metadata": {},
   "outputs": [
    {
     "name": "stderr",
     "output_type": "stream",
     "text": [
      " Betweenness Centrality: 100%|██████████| 100.0/100 [13:58<00:00,  8.39s/%, status: FINISHED]\n"
     ]
    }
   ],
   "source": [
    "bc_df = gds.betweenness.stream(G, concurrency=4)"
   ]
  },
  {
   "cell_type": "code",
   "execution_count": 29,
   "id": "f2a1d9ed",
   "metadata": {},
   "outputs": [
    {
     "name": "stdout",
     "output_type": "stream",
     "text": [
      "        nodeId  score\n",
      "0        86400    0.0\n",
      "1        86401    0.0\n",
      "2        86402    0.0\n",
      "3        86403    0.0\n",
      "4        86404    0.0\n",
      "...        ...    ...\n",
      "174827   86395    0.0\n",
      "174828   86396    0.0\n",
      "174829   86397    0.0\n",
      "174830   86398    0.0\n",
      "174831   86399    0.0\n",
      "\n",
      "[174832 rows x 2 columns]\n"
     ]
    }
   ],
   "source": [
    "print(bc_df)"
   ]
  },
  {
   "cell_type": "code",
   "execution_count": 32,
   "id": "4fba1dcd",
   "metadata": {},
   "outputs": [
    {
     "name": "stdout",
     "output_type": "stream",
     "text": [
      "        nodeId                                              hlink  \\\n",
      "91681     3249  https://www.law.cornell.edu/constitution/amend...   \n",
      "91695     3263  https://www.law.cornell.edu/constitution/articlei   \n",
      "90012     1580  https://www.law.cornell.edu/constitution-conan...   \n",
      "112480   24048  https://www.law.cornell.edu/supremecourt/text/...   \n",
      "91704     3272  https://www.law.cornell.edu/constitution/fifth...   \n",
      "129798   41366         https://www.law.cornell.edu/wex/common_law   \n",
      "91705     3273  https://www.law.cornell.edu/constitution/first...   \n",
      "130647   42215          https://www.law.cornell.edu/wex/elections   \n",
      "130141   41709       https://www.law.cornell.edu/wex/criminal_law   \n",
      "91702     3270  https://www.law.cornell.edu/constitution/billo...   \n",
      "\n",
      "               score  \n",
      "91681   8.312872e+08  \n",
      "91695   3.960140e+08  \n",
      "90012   3.765364e+08  \n",
      "112480  2.809264e+08  \n",
      "91704   2.702572e+08  \n",
      "129798  1.929133e+08  \n",
      "91705   1.763391e+08  \n",
      "130647  1.755085e+08  \n",
      "130141  1.607743e+08  \n",
      "91702   1.406629e+08  \n"
     ]
    }
   ],
   "source": [
    "# Sort by 'score' and get the top 10\n",
    "top10score = bc_df.sort_values('score', ascending=False).head(10)\n",
    "\n",
    "# Extract 'hlink\n",
    "top10score['hlink'] = top10score['nodeId'].apply(\n",
    "    lambda node_id: gds.util.asNode(node_id).get('hlink', None)\n",
    ")\n",
    "\n",
    "# Print the result\n",
    "print(top10score[['nodeId', 'hlink', 'score']])"
   ]
  }
 ],
 "metadata": {
  "kernelspec": {
   "display_name": "Python 3",
   "language": "python",
   "name": "python3"
  },
  "language_info": {
   "codemirror_mode": {
    "name": "ipython",
    "version": 3
   },
   "file_extension": ".py",
   "mimetype": "text/x-python",
   "name": "python",
   "nbconvert_exporter": "python",
   "pygments_lexer": "ipython3",
   "version": "3.11.9"
  }
 },
 "nbformat": 4,
 "nbformat_minor": 5
}
